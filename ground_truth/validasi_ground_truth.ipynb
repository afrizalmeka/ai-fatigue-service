{
 "cells": [
  {
   "cell_type": "markdown",
   "id": "e9788721",
   "metadata": {},
   "source": [
    "# Import Data"
   ]
  },
  {
   "cell_type": "code",
   "execution_count": 11,
   "id": "0c8906fb",
   "metadata": {},
   "outputs": [],
   "source": [
    "import pandas as pd\n",
    "\n",
    "# Load the provided Excel files\n",
    "gt_eyes_closed = pd.read_excel(\"ground_truth_eyes_closed.xlsx\")\n",
    "gt_yawning = pd.read_excel(\"ground_truth_yawning.xlsx\")\n",
    "val_eyes_closed = pd.read_excel(\"hasil_validasi_video_eyes_closed.xlsx\")\n",
    "val_yawning = pd.read_excel(\"hasil_validasi_video_yawning.xlsx\")"
   ]
  },
  {
   "cell_type": "code",
   "execution_count": 12,
   "id": "adb74431",
   "metadata": {},
   "outputs": [
    {
     "name": "stdout",
     "output_type": "stream",
     "text": [
      "         video  human_inspection Unnamed: 2\n",
      "0  Video 1.mp4             False        NaN\n",
      "1  Video 2.mp4             False        NaN\n",
      "2  Video 3.mp4              True        NaN\n",
      "3  Video 4.mp4             False        NaN\n",
      "4  Video 5.mp4              True        NaN\n",
      "         video  human_inspection  Unnamed: 2\n",
      "0  Video 1.mp4              True         NaN\n",
      "1  Video 2.mp4             False         NaN\n",
      "2  Video 3.mp4             False         NaN\n",
      "3  Video 4.mp4              True         NaN\n",
      "4  Video 5.mp4             False  video jauh\n",
      "         video  label\n",
      "0  Video 1.mp4  False\n",
      "1  Video 2.mp4  False\n",
      "2  Video 3.mp4  False\n",
      "3  Video 4.mp4  False\n",
      "4  Video 5.mp4  False\n",
      "         video  label\n",
      "0  Video 1.mp4   True\n",
      "1  Video 2.mp4  False\n",
      "2  Video 3.mp4   True\n",
      "3  Video 4.mp4  False\n",
      "4  Video 5.mp4   True\n"
     ]
    }
   ],
   "source": [
    "print(gt_eyes_closed.head())\n",
    "print(gt_yawning.head())\n",
    "print(val_eyes_closed.head())\n",
    "print(val_yawning.head())"
   ]
  },
  {
   "cell_type": "code",
   "execution_count": 13,
   "id": "90a3524f",
   "metadata": {},
   "outputs": [
    {
     "name": "stdout",
     "output_type": "stream",
     "text": [
      "=== Eyes Closed ===\n",
      "Ground Truth (Human):\n",
      "human_inspection\n",
      "False    69\n",
      "True     31\n",
      "Name: count, dtype: int64\n",
      "\n",
      "AI Prediction:\n",
      "label\n",
      "False    99\n",
      "True      1\n",
      "Name: count, dtype: int64\n"
     ]
    }
   ],
   "source": [
    "print(\"=== Eyes Closed ===\")\n",
    "print(\"Ground Truth (Human):\")\n",
    "print(gt_eyes_closed['human_inspection'].value_counts())\n",
    "\n",
    "print(\"\\nAI Prediction:\")\n",
    "print(val_eyes_closed['label'].value_counts())"
   ]
  },
  {
   "cell_type": "code",
   "execution_count": 14,
   "id": "3663b0e9",
   "metadata": {},
   "outputs": [
    {
     "name": "stdout",
     "output_type": "stream",
     "text": [
      "\n",
      "=== Yawning ===\n",
      "Ground Truth (Human):\n",
      "human_inspection\n",
      "False    66\n",
      "True     34\n",
      "Name: count, dtype: int64\n",
      "\n",
      "AI Prediction:\n",
      "label\n",
      "False    61\n",
      "True     39\n",
      "Name: count, dtype: int64\n"
     ]
    }
   ],
   "source": [
    "print(\"\\n=== Yawning ===\")\n",
    "print(\"Ground Truth (Human):\")\n",
    "print(gt_yawning['human_inspection'].value_counts())\n",
    "\n",
    "print(\"\\nAI Prediction:\")\n",
    "print(val_yawning['label'].value_counts())\n"
   ]
  },
  {
   "cell_type": "code",
   "execution_count": 15,
   "id": "ffa2fe0e",
   "metadata": {},
   "outputs": [],
   "source": [
    "# Gabungkan dan hitung untuk Eyes Closed\n",
    "merged_eyes_closed = pd.merge(\n",
    "    gt_eyes_closed[['video', 'human_inspection']],\n",
    "    val_eyes_closed[['video', 'label']],\n",
    "    on='video'\n",
    ")\n",
    "merged_eyes_closed['is_correct'] = merged_eyes_closed['human_inspection'] == merged_eyes_closed['label']\n",
    "eyes_closed_counts = merged_eyes_closed['is_correct'].value_counts()\n",
    "\n",
    "# Gabungkan dan hitung untuk Yawning\n",
    "merged_yawning = pd.merge(\n",
    "    gt_yawning[['video', 'human_inspection']],\n",
    "    val_yawning[['video', 'label']],\n",
    "    on='video'\n",
    ")\n",
    "\n",
    "merged_yawning['is_correct'] = merged_yawning['human_inspection'] == merged_yawning['label']\n",
    "yawning_counts = merged_yawning['is_correct'].value_counts()"
   ]
  },
  {
   "cell_type": "code",
   "execution_count": 16,
   "id": "f58bd503",
   "metadata": {},
   "outputs": [
    {
     "name": "stdout",
     "output_type": "stream",
     "text": [
      "         video  human_inspection  label  is_correct\n",
      "0  Video 1.mp4             False  False        True\n",
      "1  Video 2.mp4             False  False        True\n",
      "2  Video 3.mp4              True  False       False\n",
      "3  Video 4.mp4             False  False        True\n",
      "4  Video 5.mp4              True  False       False\n",
      "         video  human_inspection  label  is_correct\n",
      "0  Video 1.mp4              True   True        True\n",
      "1  Video 2.mp4             False  False        True\n",
      "2  Video 3.mp4             False   True       False\n",
      "3  Video 4.mp4              True  False       False\n",
      "4  Video 5.mp4             False   True       False\n"
     ]
    }
   ],
   "source": [
    "print(merged_eyes_closed.head())\n",
    "print(merged_yawning.head())"
   ]
  },
  {
   "cell_type": "code",
   "execution_count": null,
   "id": "e9018917",
   "metadata": {},
   "outputs": [
    {
     "name": "stdout",
     "output_type": "stream",
     "text": [
      "=== Prediksi Eyes Closed ===\n",
      "Correct     : 70\n",
      "Not Correct : 30\n",
      "\n",
      "=== Prediksi Yawning ===\n",
      "Correct     : 71\n",
      "Not Correct : 29\n"
     ]
    }
   ],
   "source": [
    "# Tampilkan hasil\n",
    "print(\"=== Prediksi Eyes Closed ===\")\n",
    "print(f\"Correct     : {eyes_closed_counts.get(True, 0)}\")\n",
    "print(f\"Not Correct : {eyes_closed_counts.get(False, 0)}\")\n",
    "\n",
    "print(\"\\n=== Prediksi Yawning ===\")\n",
    "print(f\"Correct     : {yawning_counts.get(True, 0)}\")\n",
    "print(f\"Not Correct : {yawning_counts.get(False, 0)}\")"
   ]
  }
 ],
 "metadata": {
  "kernelspec": {
   "display_name": "fastapi-ws-env",
   "language": "python",
   "name": "python3"
  },
  "language_info": {
   "codemirror_mode": {
    "name": "ipython",
    "version": 3
   },
   "file_extension": ".py",
   "mimetype": "text/x-python",
   "name": "python",
   "nbconvert_exporter": "python",
   "pygments_lexer": "ipython3",
   "version": "3.10.16"
  }
 },
 "nbformat": 4,
 "nbformat_minor": 5
}
